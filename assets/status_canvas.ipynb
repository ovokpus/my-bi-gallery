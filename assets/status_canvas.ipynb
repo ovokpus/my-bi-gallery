{
 "cells": [
  {
   "cell_type": "code",
   "execution_count": 1,
   "metadata": {},
   "outputs": [],
   "source": [
    "import pandas as pd\n",
    "from tkinter import *\n",
    "\n",
    "data = pd.read_csv('/home/surush/Desktop/Test.csv') #source of current status\n",
    "data.loc[data['RUL'] >= 75, 'Status'] = 'optimal'\n",
    "data.loc[data['RUL'].between(50, 74), 'Status'] = 'good'\n",
    "data.loc[data['RUL'].between(20, 49), 'Status'] = 'warning'\n",
    "data.loc[data['RUL'] < 20, 'Status'] = 'critical'\n",
    "\n",
    "color = {\n",
    "    \"optimal\": \"#006400\",\n",
    "    \"good\": \"#00FF00\",\n",
    "    \"warning\": \"#F17925\",\n",
    "    \"critical\": \"#D82C20\"\n",
    "}\n",
    "\n",
    "root = Tk()\n",
    "root.title('Status Canvas')\n",
    "\n",
    "my_canvas = Canvas(root, width = 1000, height = 1000, bg = \"grey\")\n",
    "my_canvas.pack(pady = 20)\n",
    "\n",
    "for _, row in data.iterrows():\n",
    "    my_canvas.create_rectangle(((row.unitNumber - 1)%20) * 50,\n",
    "                               int((row.unitNumber - 1)/20) * 50,\n",
    "                               (((row.unitNumber - 1)%20) + 1) * 50,\n",
    "                               (int((row.unitNumber - 1)/20) + 1) * 50,\n",
    "                               fill = color[row.Status]\n",
    "                              )\n",
    "    my_canvas.create_text((((row.unitNumber - 1)%20) * 50 + 13, int((row.unitNumber - 1)/20) * 50 + 10), \n",
    "                          text=str(row.unitNumber),\n",
    "                          font = \"Times\"\n",
    "                         )\n",
    "    my_canvas.create_text((((row.unitNumber - 1)%20) * 50 + 13, int((row.unitNumber - 1)/20) * 50 + 40), \n",
    "                          text=str(row.RUL),\n",
    "                          font=\"Times\"\n",
    "                         )"
   ]
  },
  {
   "cell_type": "code",
   "execution_count": 2,
   "metadata": {},
   "outputs": [],
   "source": [
    "root.mainloop()"
   ]
  },
  {
   "cell_type": "code",
   "execution_count": null,
   "metadata": {
    "collapsed": true
   },
   "outputs": [],
   "source": []
  }
 ],
 "metadata": {
  "kernelspec": {
   "display_name": "Python 3",
   "language": "python",
   "name": "python3"
  },
  "language_info": {
   "codemirror_mode": {
    "name": "ipython",
    "version": 3
   },
   "file_extension": ".py",
   "mimetype": "text/x-python",
   "name": "python",
   "nbconvert_exporter": "python",
   "pygments_lexer": "ipython3",
   "version": "3.7.0"
  }
 },
 "nbformat": 4,
 "nbformat_minor": 2
}
